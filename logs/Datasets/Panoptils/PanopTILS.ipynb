{
 "cells": [
  {
   "cell_type": "markdown",
   "metadata": {},
   "source": [
    "# Prepare PanopTILs Dataset"
   ]
  },
  {
   "cell_type": "markdown",
   "metadata": {},
   "source": [
    "This dataset have been licensed under CC0 1.0, such that we directly distribute them.\n",
    "\n",
    "If you use the dataset, please check out the official website for further information. https://sites.google.com/view/panoptils/\n",
    "\n",
    "Please also remember to cite:\n",
    "\n",
    "PanopTILs dataset\n",
    "Liu S, Amgad M, Rathore MA, Salgado R, Cooper LA. A panoptic segmentation approach for tumor-infiltrating lymphocyte assessment: development of the MuTILs model and PanopTILs dataset. medRxiv 2022.01.08.22268814. \n",
    "\n",
    "\n",
    "NuCLS dataset\n",
    "Amgad M, Atteya LA, Hussein H, Mohammed KH, Hafiz E, Elsebaie MA, Alhusseiny AM, AlMoslemany MA, Elmatboly AM, Pappalardo PA, Sakr RA. NuCLS: A scalable crowdsourcing approach and dataset for nucleus classification and segmentation in breast cancer. GigaScience. 2022 May 17;11.\n",
    "\n",
    "The dataset can be downloaded here:\n",
    "https://drive.google.com/drive/folders/1Iin-faCELggw1iNUHZ1b0YYvc7rwFelv?usp=sharing\n"
   ]
  },
  {
   "cell_type": "markdown",
   "metadata": {},
   "source": [
    "# Train Classifier"
   ]
  },
  {
   "cell_type": "code",
   "execution_count": null,
   "metadata": {},
   "outputs": [],
   "source": [
    "# exemplary configs can be found in the log folder:\n",
    "# ./logs/Classifiers/PanopTILs\n",
    "\n",
    "# python3 ./cellvit/train_cell_classifier_head.py --config /path/to/your/config.yaml"
   ]
  },
  {
   "cell_type": "markdown",
   "metadata": {},
   "source": [
    "# Evaluation"
   ]
  },
  {
   "cell_type": "code",
   "execution_count": null,
   "metadata": {},
   "outputs": [],
   "source": [
    "# evaluate with panoptils-evaluation metrics\n",
    "#\n",
    "# python3 ./cellvit/training/evaluate/inference_cellvit_experiment_panoptils.py --help\n",
    "# usage: inference_cellvit_experiment_panoptils.py [-h] [--logdir LOGDIR] [--dataset_path DATASET_PATH] [--cellvit_path CELLVIT_PATH] [--normalize_stains] [--gpu GPU]\n",
    "\n",
    "# Perform CellViT-Classifier inference for PanopTILS\n",
    "\n",
    "# options:\n",
    "#   -h, --help            show this help message and exit\n",
    "#   --logdir LOGDIR       Path to the log directory with the trained head. (default: None)\n",
    "#   --dataset_path DATASET_PATH\n",
    "#                         Path to the PanopTILs dataset (default: /home/jovyan/cellvit-data/panoptils)\n",
    "#   --cellvit_path CELLVIT_PATH\n",
    "#                         Path to the Cellvit model (default: /home/jovyan/cellvit-data/cellvit/checkpoints/CellViT-UNI-x40-AMP.pth)\n",
    "#   --normalize_stains    If stains should be normalized for inference (default: False)\n",
    "#   --gpu GPU             Number of CUDA GPU to use (default: 0)"
   ]
  }
 ],
 "metadata": {
  "kernelspec": {
   "display_name": "cellvit_env",
   "language": "python",
   "name": "python3"
  },
  "language_info": {
   "codemirror_mode": {
    "name": "ipython",
    "version": 3
   },
   "file_extension": ".py",
   "mimetype": "text/x-python",
   "name": "python",
   "nbconvert_exporter": "python",
   "pygments_lexer": "ipython3",
   "version": "3.9.7"
  }
 },
 "nbformat": 4,
 "nbformat_minor": 2
}

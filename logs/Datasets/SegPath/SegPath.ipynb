{
 "cells": [
  {
   "cell_type": "markdown",
   "metadata": {},
   "source": [
    "# Prepare SegPath Dataset"
   ]
  },
  {
   "cell_type": "markdown",
   "metadata": {},
   "source": [
    "Download Data from [SegPath](https://dakomura.github.io/SegPath/)\n",
    "\n",
    "We use two subsets:\n",
    "1. [CD3/CD20 (lymphocytes)](https://zenodo.org/record/7412529)\n",
    "2. [Plasma cells (MIST1)](https://zenodo.org/record/7412500)\n",
    "\n",
    "Place the data in one folder and process accordingly.  \n",
    "The folder contains data for all organs; we will use the data for the breast.  \n",
    "To do so, use the provided splits in the respective cell type folder.\n",
    "\n",
    "The final folder structure should be:\n",
    "```bash\n",
    "Lymphocytes\n",
    "├── CD3CD20_Lymphocyte\n",
    "│   ├── CD3CD20_Lymphocyte_039_124928_049152_HE.png\n",
    "│   ├── CD3CD20_Lymphocyte_039_124928_049152_mask.png\n",
    "│   ...\n",
    "└── split\n",
    "    └── tumor_types\n",
    "        └── Breast cancer\n",
    "            ...\n",
    "\n",
    "Plasma\n",
    "├── MIST1_PlasmaCell\n",
    "│   ├── MIST1_PlasmaCell_017_061440_095232_HE.png\n",
    "│   ├── MIST1_PlasmaCell_017_061440_095232_mask.png\n",
    "│   ...\n",
    "└── split\n",
    "    └── tumor_types\n",
    "        └── Breast cancer\n",
    "            ...\n",
    "```"
   ]
  },
  {
   "cell_type": "markdown",
   "metadata": {},
   "source": [
    "# Train Classifier"
   ]
  },
  {
   "cell_type": "code",
   "execution_count": 3,
   "metadata": {},
   "outputs": [],
   "source": [
    "# We do not preextract cell annotations, but rather extract them on the fly.\n",
    "\n",
    "# exemplary configs can be found in the log folder:\n",
    "# ./logs/Classifiers/SegPath\n",
    "\n",
    "# python3 ./cellvit/train_cell_classifier_head.py --config /path/to/your/config.yaml"
   ]
  },
  {
   "cell_type": "markdown",
   "metadata": {},
   "source": [
    "# Evaluation"
   ]
  },
  {
   "cell_type": "code",
   "execution_count": 4,
   "metadata": {},
   "outputs": [],
   "source": [
    "# evaluate with SegPath-evaluation metrics\n",
    "#\n",
    "# python3 cellvit/training/evaluate/inference_cellvit_experiment_segpath.py --help\n",
    "# usage: inference_cellvit_experiment_segpath.py [-h] [--logdir LOGDIR] [--dataset_path DATASET_PATH] [--test_filelist TEST_FILELIST]\n",
    "#                                                [--cached_inference_path CACHED_INFERENCE_PATH] [--cellvit_path CELLVIT_PATH] [--normalize_stains]\n",
    "#                                                [--threshold THRESHOLD] [--gpu GPU]\n",
    "\n",
    "# Perform CellViT-Classifier inference for SegPath (binary case)\n",
    "\n",
    "# options:\n",
    "#   -h, --help            show this help message and exit\n",
    "#   --logdir LOGDIR       Path to the log directory with the trained head. (default: None)\n",
    "#   --dataset_path DATASET_PATH\n",
    "#                         Path to the Segpath dataset (default: None)\n",
    "#   --test_filelist TEST_FILELIST\n",
    "#                         Path to the filelist with the test patches (default: None)\n",
    "#   --cached_inference_path CACHED_INFERENCE_PATH\n",
    "#                         Path to the Cache were datasets are stored temporarily (default: None)\n",
    "#   --cellvit_path CELLVIT_PATH\n",
    "#                         Path to the Cellvit model (default: None)\n",
    "#   --normalize_stains    If stains should be normalized for inference (default: False)\n",
    "#   --threshold THRESHOLD\n",
    "#                         Decision-Threshold for the classifier (default: 0.5)\n",
    "#   --gpu GPU             Number of CUDA GPU to use (default: 0)"
   ]
  }
 ],
 "metadata": {
  "kernelspec": {
   "display_name": "cellvit_env",
   "language": "python",
   "name": "python3"
  },
  "language_info": {
   "codemirror_mode": {
    "name": "ipython",
    "version": 3
   },
   "file_extension": ".py",
   "mimetype": "text/x-python",
   "name": "python",
   "nbconvert_exporter": "python",
   "pygments_lexer": "ipython3",
   "version": "3.9.7"
  }
 },
 "nbformat": 4,
 "nbformat_minor": 2
}

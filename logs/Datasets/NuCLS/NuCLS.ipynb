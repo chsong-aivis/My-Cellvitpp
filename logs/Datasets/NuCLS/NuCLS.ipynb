{
 "cells": [
  {
   "cell_type": "markdown",
   "metadata": {},
   "source": [
    "# Prepare NuCLS Dataset"
   ]
  },
  {
   "cell_type": "markdown",
   "metadata": {},
   "source": [
    "This dataset have been licensed under CC0 1.0, such that we directly distribute them.\n",
    "\n",
    "If you use the dataset, please check out the official website for further information. https://sites.google.com/view/nucls/\n",
    "https://sites.google.com/view/nucls/single-rater?authuser=0\n",
    "\n",
    "Please also remember to cite:\n",
    "\n",
    "NuCLS dataset\n",
    "Amgad M, Atteya LA, Hussein H, Mohammed KH, Hafiz E, Elsebaie MA, Alhusseiny AM, AlMoslemany MA, Elmatboly AM, Pappalardo PA, Sakr RA. NuCLS: A scalable crowdsourcing approach and dataset for nucleus classification and segmentation in breast cancer. GigaScience. 2022 May 17;11.\n",
    "\n",
    "The dataset can be downloaded here:\n",
    "https://drive.google.com/drive/folders/1Kzesn3IuI1x2yShUPyFWYwhXImh4GZzz?usp=sharing\n"
   ]
  },
  {
   "cell_type": "markdown",
   "metadata": {},
   "source": [
    "# Train Classifier"
   ]
  },
  {
   "cell_type": "code",
   "execution_count": null,
   "metadata": {},
   "outputs": [],
   "source": [
    "# exemplary configs can be found in the log folder:\n",
    "# ./logs/Classifiers/NuCLS\n",
    "\n",
    "# python3 ./cellvit/train_cell_classifier_head.py --config /path/to/your/config.yaml"
   ]
  },
  {
   "cell_type": "markdown",
   "metadata": {},
   "source": [
    "# Evaluation"
   ]
  },
  {
   "cell_type": "code",
   "execution_count": null,
   "metadata": {},
   "outputs": [],
   "source": [
    "# evaluate with NuCLS-evaluation metrics\n",
    "#\n",
    "# python3 ./cellvit/training/evaluate/inference_cellvit_experiment_nucls.py --help\n",
    "# usage: inference_cellvit_experiment_nucls.py [-h] [--logdir LOGDIR] [--dataset_path DATASET_PATH] [--classification_level {raw_classification,main_classification,super_classification}]\n",
    "#                                              [--cellvit_path CELLVIT_PATH] [--normalize_stains] [--gpu GPU]\n",
    "\n",
    "# Perform CellViT-Classifier inference for NuCLS\n",
    "\n",
    "# options:\n",
    "#   -h, --help            show this help message and exit\n",
    "#   --logdir LOGDIR       Path to the log directory with the trained head. (default: None)\n",
    "#   --dataset_path DATASET_PATH\n",
    "#                         Path to the NuCLS dataset (default: None)\n",
    "#   --classification_level {raw_classification,main_classification,super_classification}\n",
    "#                         Choose one of the classification levels: raw_classification, main_classification, super_classification (default: None)\n",
    "#   --cellvit_path CELLVIT_PATH\n",
    "#                         Path to the Cellvit model (default: None)\n",
    "#   --normalize_stains    If stains should be normalized for inference (default: False)\n",
    "#   --gpu GPU             Number of CUDA GPU to use (default: 0)"
   ]
  }
 ],
 "metadata": {
  "kernelspec": {
   "display_name": "cellvit_env",
   "language": "python",
   "name": "python3"
  },
  "language_info": {
   "codemirror_mode": {
    "name": "ipython",
    "version": 3
   },
   "file_extension": ".py",
   "mimetype": "text/x-python",
   "name": "python",
   "nbconvert_exporter": "python",
   "pygments_lexer": "ipython3",
   "version": "3.9.7"
  }
 },
 "nbformat": 4,
 "nbformat_minor": 2
}

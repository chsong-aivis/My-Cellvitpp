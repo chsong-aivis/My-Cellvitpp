{
 "cells": [
  {
   "cell_type": "markdown",
   "metadata": {},
   "source": [
    "# Prepare Ocelot Dataset"
   ]
  },
  {
   "cell_type": "code",
   "execution_count": 13,
   "metadata": {},
   "outputs": [],
   "source": [
    "# download data from https://zenodo.org/records/7844149\n",
    "# Place the folder in your dataset folder and adjust the paths in the respective yaml configs"
   ]
  },
  {
   "cell_type": "markdown",
   "metadata": {},
   "source": [
    "# Train Classifier"
   ]
  },
  {
   "cell_type": "code",
   "execution_count": null,
   "metadata": {},
   "outputs": [],
   "source": [
    "# exemplary configs can be found in the log folder:\n",
    "# ./logs/Classifiers/Ocelot\n",
    "\n",
    "# python3 ./cellvit/train_cell_classifier_head.py --config /path/to/your/config.yaml"
   ]
  },
  {
   "cell_type": "markdown",
   "metadata": {},
   "source": [
    "# Evaluate"
   ]
  },
  {
   "cell_type": "code",
   "execution_count": null,
   "metadata": {},
   "outputs": [],
   "source": [
    "# evaluate with ocelot-evaluation metrics\n",
    "\n",
    "# python3 ./cellvit/training/evaluate/inference_cellvit_experiment_ocelot.py --help\n",
    "# usage: inference_cellvit_experiment_ocelot.py [-h] [--logdir LOGDIR] [--dataset_path DATASET_PATH] [--cellvit_path CELLVIT_PATH] [--normalize_stains] [--threshold THRESHOLD] [--gpu GPU]\n",
    "\n",
    "# Perform CellViT-Classifier inference for Ocelot\n",
    "\n",
    "# options:\n",
    "#   -h, --help            show this help message and exit\n",
    "#   --logdir LOGDIR       Path to the log directory with the trained head. (default: None)\n",
    "#   --dataset_path DATASET_PATH\n",
    "#                         Path to the OCELOT dataset (default: None)\n",
    "#   --cellvit_path CELLVIT_PATH\n",
    "#                         Path to the Cellvit model (default: None)\n",
    "#   --normalize_stains    If stains should be normalized for inference (default: False)\n",
    "#   --threshold THRESHOLD\n",
    "#                         Decision-Threshold for the classifier (default: 0.5)\n",
    "#   --gpu GPU             Number of CUDA GPU to use (default: 0)"
   ]
  }
 ],
 "metadata": {
  "kernelspec": {
   "display_name": "cellvit_env",
   "language": "python",
   "name": "python3"
  },
  "language_info": {
   "codemirror_mode": {
    "name": "ipython",
    "version": 3
   },
   "file_extension": ".py",
   "mimetype": "text/x-python",
   "name": "python",
   "nbconvert_exporter": "python",
   "pygments_lexer": "ipython3",
   "version": "3.9.7"
  }
 },
 "nbformat": 4,
 "nbformat_minor": 2
}

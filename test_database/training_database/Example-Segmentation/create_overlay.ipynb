{
 "cells": [
  {
   "cell_type": "code",
   "execution_count": 2,
   "metadata": {},
   "outputs": [],
   "source": [
    "from pathlib import Path\n",
    "import numpy as np"
   ]
  },
  {
   "cell_type": "code",
   "execution_count": 2,
   "metadata": {},
   "outputs": [],
   "source": [
    "label_map = {\n",
    "    \"Non-Tumor\": 1,\n",
    "    \"Tumor\": 2,\n",
    "}"
   ]
  },
  {
   "cell_type": "code",
   "execution_count": 12,
   "metadata": {},
   "outputs": [],
   "source": [
    "# plot an overlay\n",
    "import matplotlib.pyplot as plt\n",
    "\n",
    "image_folder = \"./train/images\"\n",
    "label_folder = \"./train/labels\"\n",
    "overlay_folder = \"./train/overlay\"\n",
    "\n",
    "image_folder = Path(image_folder)\n",
    "label_folder = Path(label_folder)\n",
    "overlay_folder = Path(overlay_folder)\n",
    "\n",
    "for image in image_folder.glob(\"*.png\"):\n",
    "    fig, axs = plt.subplots(1, 3, figsize=(15, 5))\n",
    "    \n",
    "    axs[0].imshow(plt.imread(image))\n",
    "    axs[0].axis(\"off\")\n",
    "    axs[0].set_title(\"Image\")\n",
    "    \n",
    "    label = label_folder / image.name.replace(\".png\", \".npy\")\n",
    "    label = np.load(label, allow_pickle=True)\n",
    "    inst_map = label.item().get(\"inst_map\")\n",
    "    type_map = label.item().get(\"type_map\")\n",
    "    \n",
    "    axs[1].imshow(inst_map)\n",
    "    axs[1].axis(\"off\")\n",
    "    axs[1].set_title(\"Instance Map\")\n",
    "    \n",
    "    axs[2].imshow(type_map)\n",
    "    axs[2].axis(\"off\")\n",
    "    axs[2].set_title(\"Type Map\")\n",
    "    \n",
    "    plt.tight_layout()\n",
    "    plt.savefig(overlay_folder / image.name)\n",
    "    plt.close()"
   ]
  }
 ],
 "metadata": {
  "kernelspec": {
   "display_name": "cellvit_env",
   "language": "python",
   "name": "python3"
  },
  "language_info": {
   "codemirror_mode": {
    "name": "ipython",
    "version": 3
   },
   "file_extension": ".py",
   "mimetype": "text/x-python",
   "name": "python",
   "nbconvert_exporter": "python",
   "pygments_lexer": "ipython3",
   "version": "3.9.7"
  }
 },
 "nbformat": 4,
 "nbformat_minor": 2
}

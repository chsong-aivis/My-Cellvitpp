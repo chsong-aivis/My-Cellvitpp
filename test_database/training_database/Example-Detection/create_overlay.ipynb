{
 "cells": [
  {
   "cell_type": "code",
   "execution_count": 1,
   "metadata": {},
   "outputs": [],
   "source": [
    "import csv\n",
    "from pathlib import Path\n",
    "import pandas as pd\n",
    "import numpy as np"
   ]
  },
  {
   "cell_type": "code",
   "execution_count": 36,
   "metadata": {},
   "outputs": [],
   "source": [
    "label_map = {\n",
    "    \"tumor_any\": 0,\n",
    "    \"nonTIL_stromal\": 1,\n",
    "    \"sTIL\": 2,\n",
    "    \"AMBIGUOUS\": 3\n",
    "}"
   ]
  },
  {
   "cell_type": "code",
   "execution_count": 38,
   "metadata": {},
   "outputs": [],
   "source": [
    "# plot an overlay\n",
    "from PIL import Image, ImageDraw\n",
    "\n",
    "image_folder = \"./test/images\"\n",
    "label_folder = \"./test/labels\"\n",
    "overlay_folder = \"./test/overlay\"\n",
    "\n",
    "image_folder = Path(image_folder)\n",
    "label_folder = Path(label_folder)\n",
    "overlay_folder = Path(overlay_folder)\n",
    "\n",
    "for image in image_folder.glob(\"*.png\"):\n",
    "    img = Image.open(image)\n",
    "    overlay = Image.new(\"RGBA\", img.size, (0, 0, 0, 0))\n",
    "    draw = ImageDraw.Draw(overlay)\n",
    "    \n",
    "    cell_annotation_file = label_folder / (image.stem + \".csv\")\n",
    "    if not cell_annotation_file.exists():\n",
    "        continue\n",
    "    with open(cell_annotation_file, \"r\") as f:\n",
    "        cells_pd = csv.reader(f)\n",
    "        cells = [(int(x), int(y), int(label)) for x, y, label in cells_pd]\n",
    "    \n",
    "    # draw a circle around each cell with the correct color\n",
    "    for cell in cells:\n",
    "        x, y, label = cell\n",
    "        radius = 3  # Adjust this for larger points\n",
    "        if label == 0:\n",
    "            draw.ellipse([x - radius, y - radius, x + radius, y + radius], fill=(255, 0, 0, 128))  # Red points\n",
    "        elif label == 1:\n",
    "            draw.ellipse([x - radius, y - radius, x + radius, y + radius], fill=(0, 255, 0, 128))  # Green points\n",
    "        elif label == 2:\n",
    "            draw.ellipse([x - radius, y - radius, x + radius, y + radius], fill=(0, 0, 255, 128))  # Blue points\n",
    "        elif label == 3:\n",
    "            draw.ellipse([x - radius, y - radius, x + radius, y + radius], fill=(255, 255, 0, 128)) # Yellow points\n",
    "    img = Image.alpha_composite(img.convert(\"RGBA\"), overlay)\n",
    "    img.save(overlay_folder / image.name)"
   ]
  }
 ],
 "metadata": {
  "kernelspec": {
   "display_name": "cellvit_env",
   "language": "python",
   "name": "python3"
  },
  "language_info": {
   "codemirror_mode": {
    "name": "ipython",
    "version": 3
   },
   "file_extension": ".py",
   "mimetype": "text/x-python",
   "name": "python",
   "nbconvert_exporter": "python",
   "pygments_lexer": "ipython3",
   "version": "3.9.7"
  }
 },
 "nbformat": 4,
 "nbformat_minor": 2
}
